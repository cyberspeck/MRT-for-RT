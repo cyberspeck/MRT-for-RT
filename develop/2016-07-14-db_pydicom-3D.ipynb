{
 "cells": [
  {
   "cell_type": "code",
   "execution_count": 1,
   "metadata": {
    "collapsed": false
   },
   "outputs": [
    {
     "name": "stdout",
     "output_type": "stream",
     "text": [
      "Populating the interactive namespace from numpy and matplotlib\n"
     ]
    }
   ],
   "source": [
    "import dicom\n",
    "import os\n",
    "import numpy\n",
    "from matplotlib import pyplot, cm\n",
    "%pylab inline"
   ]
  },
  {
   "cell_type": "code",
   "execution_count": 2,
   "metadata": {
    "collapsed": true
   },
   "outputs": [],
   "source": [
    "def dicomShow(volume, ref, plane=0,  title=None, margin=0.05, dpi=40, scale=2, interpolation=None ):\n",
    "    \"\"\"\n",
    "    scale is a scaling factor for the shown image\n",
    "    \"\"\"\n",
    "    nda = volume[:,:,plane]\n",
    "    spacing = ref.PixelSpacing\n",
    "    figsize = (scale + margin) * nda.shape[0] / dpi, (scale + margin) * nda.shape[1] / dpi\n",
    "    extent = (0, nda.shape[1]*spacing[1], nda.shape[0]*spacing[0], 0)\n",
    "    fig = plt.figure(figsize=figsize, dpi=dpi)\n",
    "    ax = fig.add_axes([margin, margin, scale - 2*margin, scale - 2*margin])\n",
    "\n",
    "    plt.set_cmap(\"gray\")\n",
    "    ax.imshow(nda,extent=extent,interpolation=interpolation)\n",
    "    \n",
    "    if title:\n",
    "        plt.title(title)\n",
    "    \n",
    "    plt.show()"
   ]
  },
  {
   "cell_type": "code",
   "execution_count": 3,
   "metadata": {
    "collapsed": true
   },
   "outputs": [],
   "source": [
    "pathCT = \"../data/cropped_CT/\"\n",
    "pathMR = \"../data/cropped_MR-d/\"\n",
    "\n",
    "lstFilesCT = []  # create an empty list for CT files\n",
    "for dirName, subdirList, fileList in os.walk(pathCT):\n",
    "    for filename in fileList:\n",
    "        if \".dcm\" in filename.lower():  # check whether the file's DICOM\n",
    "            lstFilesCT.append(os.path.join(dirName, filename))\n",
    "\n",
    "lstFilesMR = []  # create an empty list for MR files\n",
    "for dirName, subdirList, fileList in os.walk(pathMR):\n",
    "    for filename in fileList:\n",
    "        if \".dcm\" in filename.lower():  # check whether the file's DICOM\n",
    "            lstFilesMR.append(os.path.join(dirName, filename))\n",
    "\n",
    "# Get ref file for CT images and one for MR\n",
    "refCT = dicom.read_file(lstFilesCT[0])\n",
    "refMR = dicom.read_file(lstFilesMR[0])\n",
    "\n",
    "# Load dimensions based on the number of rows, columns, and slices (along the Z axis)\n",
    "ConstPixelDimsCT = (int(refCT.Rows), int(refCT.Columns), len(lstFilesCT))\n",
    "ConstPixelDimsMR = (int(refMR.Rows), int(refMR.Columns), len(lstFilesMR))\n",
    "\n",
    "# Load spacing values (in mm)\n",
    "ConstPixelSpacingCT = (float(refCT.PixelSpacing[0]),\n",
    "                     float(refCT.PixelSpacing[1]),\n",
    "                     float(refCT.SliceThickness))\n",
    "\n",
    "ConstPixelSpacingMR = (float(refMR.PixelSpacing[0]),\n",
    "                     float(refMR.PixelSpacing[1]),\n",
    "                     float(refMR.SliceThickness))"
   ]
  },
  {
   "cell_type": "code",
   "execution_count": 4,
   "metadata": {
    "collapsed": false
   },
   "outputs": [],
   "source": [
    "\n",
    "xCT = numpy.arange(0.0, (ConstPixelDimsCT[0]+1)*ConstPixelSpacingCT[0], ConstPixelSpacingCT[0])\n",
    "yCT = numpy.arange(0.0, (ConstPixelDimsCT[1]+1)*ConstPixelSpacingCT[1], ConstPixelSpacingCT[1])\n",
    "zCT = numpy.arange(0.0, (ConstPixelDimsCT[2]+1)*ConstPixelSpacingCT[2], ConstPixelSpacingCT[2])\n",
    "\n",
    "xMR = numpy.arange(0.0, (ConstPixelDimsMR[0]+1)*ConstPixelSpacingMR[0], ConstPixelSpacingMR[0])\n",
    "yMR = numpy.arange(0.0, (ConstPixelDimsMR[1]+1)*ConstPixelSpacingMR[1], ConstPixelSpacingMR[1])\n",
    "zMR = numpy.arange(0.0, (ConstPixelDimsMR[2]+1)*ConstPixelSpacingMR[2], ConstPixelSpacingMR[2])\n",
    "\n",
    "\n",
    "# The array is sized based on 'ConstPixelDims'\n",
    "ArrayDicomCT = numpy.zeros(ConstPixelDimsCT, dtype=refCT.pixel_array.dtype)\n",
    "\n",
    "# loop through all the DICOM files\n",
    "for filenameDCM in lstFilesCT:\n",
    "    # read the file\n",
    "    ds = dicom.read_file(filenameDCM)\n",
    "    # store the raw image data\n",
    "    ArrayDicomCT[:, :, lstFilesCT.index(filenameDCM)] = ds.pixel_array  \n",
    "\n",
    "\n",
    "# The array is sized based on 'ConstPixelDims'\n",
    "ArrayDicomMR = numpy.zeros(ConstPixelDimsMR, dtype=refMR.pixel_array.dtype)\n",
    "\n",
    "# loop through all the DICOM files\n",
    "for filenameDCM in lstFilesMR:\n",
    "    # read the file\n",
    "    ds = dicom.read_file(filenameDCM)\n",
    "    # store the raw image data\n",
    "    ArrayDicomMR[:, :, lstFilesMR.index(filenameDCM)] = ds.pixel_array  \n",
    "\n"
   ]
  },
  {
   "cell_type": "code",
   "execution_count": 5,
   "metadata": {
    "collapsed": false
   },
   "outputs": [
    {
     "data": {
      "image/png": "[encoded data removed]",
      "text/plain": [
       "<matplotlib.figure.Figure at 0x7fb119dd0f28>"
      ]
     },
     "metadata": {},
     "output_type": "display_data"
    },
    {
     "data": {
      "image/png": "[encoded data removed]",
      "text/plain": [
       "<matplotlib.figure.Figure at 0x7fb119dd0ef0>"
      ]
     },
     "metadata": {},
     "output_type": "display_data"
    }
   ],
   "source": [
    "dicomShow(ArrayDicomCT, refCT, plane=10, title='ArrayDicomCT', interpolation='nearest')\n",
    "\n",
    "dicomShow(ArrayDicomMR, refMR, plane=10, title='ArrayDicomMR', interpolation='nearest')"
   ]
  }
 ],
 "metadata": {
  "kernelspec": {
   "display_name": "Python 3",
   "language": "python",
   "name": "python3"
  },
  "language_info": {
   "codemirror_mode": {
    "name": "ipython",
    "version": 3
   },
   "file_extension": ".py",
   "mimetype": "text/x-python",
   "name": "python",
   "nbconvert_exporter": "python",
   "pygments_lexer": "ipython3",
   "version": "3.4.3"
  }
 },
 "nbformat": 4,
 "nbformat_minor": 0
}
