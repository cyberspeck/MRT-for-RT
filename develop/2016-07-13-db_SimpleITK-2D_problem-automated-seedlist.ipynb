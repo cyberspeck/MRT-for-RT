{
 "cells": [
  {
   "cell_type": "code",
   "execution_count": 1,
   "metadata": {
    "collapsed": false,
    "scrolled": false
   },
   "outputs": [
    {
     "name": "stdout",
     "output_type": "stream",
     "text": [
      "Populating the interactive namespace from numpy and matplotlib\n"
     ]
    },
    {
     "name": "stderr",
     "output_type": "stream",
     "text": [
      "/usr/local/lib/python3.4/dist-packages/matplotlib/backends/backend_gtk3agg.py:18: UserWarning: The Gtk3Agg backend is known to not work on Python 3.x with pycairo. Try installing cairocffi.\n",
      "  \"The Gtk3Agg backend is known to not work on Python 3.x with pycairo. \"\n"
     ]
    }
   ],
   "source": [
    "# This notebook is based on the very helpfull blog\n",
    "# https://pyscience.wordpress.com/2014/10/19/image-segmentation-with-python-and-simpleitk/\n",
    "# more information:\n",
    "# http://insightsoftwareconsortium.github.io/SimpleITK-Notebooks/\n",
    "\n",
    "import os\n",
    "import numpy\n",
    "import SimpleITK\n",
    "import matplotlib.pyplot as plt\n",
    "%pylab inline\n"
   ]
  },
  {
   "cell_type": "code",
   "execution_count": 2,
   "metadata": {
    "collapsed": false
   },
   "outputs": [],
   "source": [
    "def sitk_show(img, title=None, margin=0.05, dpi=40, scale=2, interpolation=None):\n",
    "    # scale is a scaling factor for the shown image\n",
    "    \n",
    "    nda = SimpleITK.GetArrayFromImage(img)\n",
    "    spacing = img.GetSpacing()\n",
    "    figsize = (scale + margin) * nda.shape[0] / dpi, (scale + margin) * nda.shape[1] / dpi\n",
    "    extent = (0, nda.shape[1]*spacing[1], nda.shape[0]*spacing[0], 0)\n",
    "    fig = plt.figure(figsize=figsize, dpi=dpi)\n",
    "    ax = fig.add_axes([margin, margin, scale - 2*margin, scale - 2*margin])\n",
    "\n",
    "    plt.set_cmap(\"gray\")\n",
    "    ax.imshow(nda,extent=extent,interpolation=interpolation)\n",
    "    \n",
    "    if title:\n",
    "        plt.title(title)\n",
    "    \n",
    "    plt.show()"
   ]
  },
  {
   "cell_type": "code",
   "execution_count": 3,
   "metadata": {
    "collapsed": true
   },
   "outputs": [],
   "source": [
    "# Directory where the DICOM files are being stored (in this\n",
    "# case the 'data/cropped_CT' folder). \n",
    "pathDicom = \"../data/cropped_CT/\"\n",
    "\n",
    "# Z slice of the DICOM files to process. In the interest of\n",
    "# simplicity, segmentation will be limited to a single 2D\n",
    "# image but all processes are entirely applicable to the 3D image\n",
    "idxSlice = 50\n",
    "\n",
    "# int labels to assign to the segmented white and gray matter.\n",
    "# These need to be different integers but their values themselves\n",
    "# don't matter\n",
    "labelPlastic = 1\n",
    "labelFilling = 2"
   ]
  },
  {
   "cell_type": "code",
   "execution_count": 4,
   "metadata": {
    "collapsed": true
   },
   "outputs": [],
   "source": [
    "reader = SimpleITK.ImageSeriesReader()\n",
    "filenamesDICOM = reader.GetGDCMSeriesFileNames(pathDicom)\n",
    "reader.SetFileNames(filenamesDICOM)\n",
    "imgOriginal = reader.Execute()"
   ]
  },
  {
   "cell_type": "code",
   "execution_count": 5,
   "metadata": {
    "collapsed": false
   },
   "outputs": [],
   "source": [
    "# For now we'll only look at a single 2D image\n",
    "# if we leave this out, the rest of the code will work with the 3D vomlume,\n",
    "# so each time we'd like to visualize it, we'd have to choose one slice to be plotted:\n",
    "# use imgOriginal[:,:,idxSlice] instead of imgOriginal_slice\n",
    "imgOriginal_slice = imgOriginal[:,:,idxSlice]"
   ]
  },
  {
   "cell_type": "code",
   "execution_count": 6,
   "metadata": {
    "collapsed": false
   },
   "outputs": [
    {
     "data": {
      "image/png": "[encoded data removed]",
      "text/plain": [
       "<matplotlib.figure.Figure at 0x7f6b47237128>"
      ]
     },
     "metadata": {},
     "output_type": "display_data"
    },
    {
     "data": {
      "image/png": "[encoded data removed]",
      "text/plain": [
       "<matplotlib.figure.Figure at 0x7f6b459bfc18>"
      ]
     },
     "metadata": {},
     "output_type": "display_data"
    }
   ],
   "source": [
    "# and look at it\n",
    "# if working with 3D volume: use imgOriginal[:,:,idxSlice] instead of imgOriginal_slice here\n",
    "sitk_show(imgOriginal_slice, title=\"interpolation: 'nearest'\", interpolation='nearest')\n",
    "sitk_show(imgOriginal_slice, title=\"interpolation: 'none'\")"
   ]
  },
  {
   "cell_type": "code",
   "execution_count": 7,
   "metadata": {
    "collapsed": false
   },
   "outputs": [
    {
     "data": {
      "image/png": "[encoded data removed]",
      "text/plain": [
       "<matplotlib.figure.Figure at 0x7f6b45943be0>"
      ]
     },
     "metadata": {},
     "output_type": "display_data"
    }
   ],
   "source": [
    "# denoise the image\n",
    "# for denoising the whole volume we'd use imgOriginal instead of imgOriginal_slice\n",
    "imgSmooth = SimpleITK.CurvatureFlow(image1=imgOriginal_slice,\n",
    "                                    timeStep=0.125,\n",
    "                                    numberOfIterations=5)\n",
    "\n",
    "sitk_show(imgSmooth)"
   ]
  },
  {
   "cell_type": "code",
   "execution_count": 8,
   "metadata": {
    "collapsed": false
   },
   "outputs": [
    {
     "data": {
      "image/png": "[encoded data removed]",
      "text/plain": [
       "<matplotlib.figure.Figure at 0x7f6b458b5f60>"
      ]
     },
     "metadata": {},
     "output_type": "display_data"
    }
   ],
   "source": [
    "# for the filling I found a good pixel to be used as seed:\n",
    "seedFilling = [(14,14)]\n",
    "imgFilling = SimpleITK.ConnectedThreshold(image1=imgSmooth, \n",
    "                                              seedList=seedFilling, \n",
    "                                              lower=00, \n",
    "                                              upper=110,\n",
    "                                              replaceValue=labelFilling)\n",
    "sitk_show(imgFilling)"
   ]
  },
  {
   "cell_type": "code",
   "execution_count": 9,
   "metadata": {
    "collapsed": false,
    "scrolled": true
   },
   "outputs": [
    {
     "name": "stdout",
     "output_type": "stream",
     "text": [
      "maxPLastic: \n",
      " [[ 4  8]\n",
      " [ 5  7]\n",
      " [ 5  9]\n",
      " [ 6  6]\n",
      " [ 6 10]\n",
      " [ 7  7]\n",
      " [ 7  9]\n",
      " [ 7 10]\n",
      " [ 8  7]\n",
      " [ 8  8]\n",
      " [ 8  9]]\n"
     ]
    }
   ],
   "source": [
    "# for the plastic I'd like to get multiple seeds.\n",
    "# -get maximum values of plastic for seedList-\n",
    "# first make array out of denoised img:\n",
    "arraySmooth = SimpleITK.GetArrayFromImage(imgSmooth)\n",
    "\n",
    "# all pixels > 125 used as seeds:\n",
    "\n",
    "maxPlastic = np.array(where(arraySmooth > 125)).T\n",
    "print(\"maxPLastic: \\n\", maxPlastic)\n",
    "\n",
    "# show seeds in array    \n",
    "for x,y in maxPlastic:\n",
    "    arraySmooth[x,y] = 1000\n",
    "# plt.imshow(arraySmooth)"
   ]
  },
  {
   "cell_type": "code",
   "execution_count": 10,
   "metadata": {
    "collapsed": false
   },
   "outputs": [
    {
     "name": "stdout",
     "output_type": "stream",
     "text": [
      "seedPlastic: \n",
      " type: <class 'list'> \n",
      " value: [(4, 8), (5, 7), (5, 9), (6, 6), (6, 10), (7, 7), (7, 9), (7, 10), (8, 7), (8, 8), (8, 9)]\n"
     ]
    }
   ],
   "source": [
    "# make a list out of array:\n",
    "seedPlastic = list(map(tuple, maxPlastic))\n",
    "print(\"seedPlastic: \\n type:\", type(seedPlastic), \"\\n value:\", seedPlastic)"
   ]
  },
  {
   "cell_type": "code",
   "execution_count": 11,
   "metadata": {
    "collapsed": false
   },
   "outputs": [
    {
     "ename": "TypeError",
     "evalue": "in method 'ConnectedThreshold', argument 2 of type 'std::vector< std::vector< uint32_t,std::allocator< uint32_t > >,std::allocator< std::vector< uint32_t,std::allocator< uint32_t > > > > const &'",
     "output_type": "error",
     "traceback": [
      "\u001b[0;31m---------------------------------------------------------------------------\u001b[0m",
      "\u001b[0;31mTypeError\u001b[0m                                 Traceback (most recent call last)",
      "\u001b[0;32m<ipython-input-11-3778f06cb99e>\u001b[0m in \u001b[0;36m<module>\u001b[0;34m()\u001b[0m\n\u001b[1;32m      5\u001b[0m                                               \u001b[0mlower\u001b[0m\u001b[0;34m=\u001b[0m\u001b[0;36m110\u001b[0m\u001b[0;34m,\u001b[0m\u001b[0;34m\u001b[0m\u001b[0m\n\u001b[1;32m      6\u001b[0m                                               \u001b[0mupper\u001b[0m\u001b[0;34m=\u001b[0m\u001b[0;36m200\u001b[0m\u001b[0;34m,\u001b[0m\u001b[0;34m\u001b[0m\u001b[0m\n\u001b[0;32m----> 7\u001b[0;31m                                               replaceValue=labelPlastic)\n\u001b[0m",
      "\u001b[0;32m/usr/local/lib/python3.4/dist-packages/SimpleITK/SimpleITK.py\u001b[0m in \u001b[0;36mConnectedThreshold\u001b[0;34m(*args, **kwargs)\u001b[0m\n\u001b[1;32m  24839\u001b[0m \u001b[0;34m\u001b[0m\u001b[0m\n\u001b[1;32m  24840\u001b[0m     \"\"\"\n\u001b[0;32m> 24841\u001b[0;31m     \u001b[0;32mreturn\u001b[0m \u001b[0m_SimpleITK\u001b[0m\u001b[0;34m.\u001b[0m\u001b[0mConnectedThreshold\u001b[0m\u001b[0;34m(\u001b[0m\u001b[0;34m*\u001b[0m\u001b[0margs\u001b[0m\u001b[0;34m,\u001b[0m \u001b[0;34m**\u001b[0m\u001b[0mkwargs\u001b[0m\u001b[0;34m)\u001b[0m\u001b[0;34m\u001b[0m\u001b[0m\n\u001b[0m\u001b[1;32m  24842\u001b[0m \u001b[0;32mclass\u001b[0m \u001b[0mRegionOfInterestImageFilter\u001b[0m\u001b[0;34m(\u001b[0m\u001b[0mImageFilter_1\u001b[0m\u001b[0;34m)\u001b[0m\u001b[0;34m:\u001b[0m\u001b[0;34m\u001b[0m\u001b[0m\n\u001b[1;32m  24843\u001b[0m     \"\"\"\n",
      "\u001b[0;31mTypeError\u001b[0m: in method 'ConnectedThreshold', argument 2 of type 'std::vector< std::vector< uint32_t,std::allocator< uint32_t > >,std::allocator< std::vector< uint32_t,std::allocator< uint32_t > > > > const &'"
     ]
    }
   ],
   "source": [
    "# now I'd like to use this list for the segmentation of the plastic\n",
    "\n",
    "imgPlastic = SimpleITK.ConnectedThreshold(image1=imgSmooth, \n",
    "                                              seedList=seedPlastic, \n",
    "                                              lower=110, \n",
    "                                              upper=200,\n",
    "                                              replaceValue=labelPlastic)"
   ]
  },
  {
   "cell_type": "code",
   "execution_count": null,
   "metadata": {
    "collapsed": false
   },
   "outputs": [],
   "source": [
    "# since this does not work, I try something similar to this proposed solution (for c++):\n",
    "# http://public.kitware.com/pipermail/insight-users/2012-October/046193.html\n",
    "\n",
    "# org.itk.simple.VectorUIntList seed = new\n",
    "# org.itk.simple.VectorUIntList();\n",
    "# org.itk.simple.VectorUInt32 pts;\n",
    "# pts = new org.itk.simple.VectorUInt32(2);\n",
    "# pts.push_back(128);\n",
    "# pts.push_back(128);\n",
    "# seed.push_back(pts);\n",
    "\n",
    "seedPlastic1 = SimpleITK.VectorUIntList()\n",
    "for pixel in seedPlastic:\n",
    "    # for debugging purposes I want to see the type of pixel and seed\n",
    "    print(\"pixel:\\n type:\", type(pixel), \"\\n value:\", pixel,\"\\n\")\n",
    "    seed = SimpleITK.VectorUInt32(pixel)\n",
    "    print(\"seed:\\n type:\", type(seed), \"\\n value:\", seed)\n",
    "    seedPlastic1.push_back(seed)"
   ]
  },
  {
   "cell_type": "code",
   "execution_count": null,
   "metadata": {
    "collapsed": false
   },
   "outputs": [],
   "source": [
    "# didn't work, but that's weird, because this works:\n",
    "\n",
    "seedPlastic2 = SimpleITK.VectorUIntList()\n",
    "pixel = (12,14)\n",
    "\n",
    "seed = SimpleITK.VectorUInt32(pixel)\n",
    "\n",
    "seedPlastic2.push_back(seed)\n",
    "\n",
    "print(\"pixel:\\n type:\", type(pixel), \"\\n value:\", pixel,\"\\n\")\n",
    "print(\"seed:\\n type:\", type(seed), \"\\n value:\", seed)\n",
    "\n",
    "# maybe this would lead to a solution(???):\n",
    "# http://stackoverflow.com/questions/3761391/boostpython-python-list-to-stdvector\n",
    "# http://stackoverflow.com/questions/4819707/passing-python-list-to-c-vector-using-boost-python"
   ]
  }
 ],
 "metadata": {
  "kernelspec": {
   "display_name": "Python 3",
   "language": "python",
   "name": "python3"
  },
  "language_info": {
   "codemirror_mode": {
    "name": "ipython",
    "version": 3
   },
   "file_extension": ".py",
   "mimetype": "text/x-python",
   "name": "python",
   "nbconvert_exporter": "python",
   "pygments_lexer": "ipython3",
   "version": "3.4.3"
  }
 },
 "nbformat": 4,
 "nbformat_minor": 0
}
