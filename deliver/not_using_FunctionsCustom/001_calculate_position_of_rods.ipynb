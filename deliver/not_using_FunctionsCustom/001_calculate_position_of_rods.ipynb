{
 "cells": [
  {
   "cell_type": "code",
   "execution_count": 1,
   "metadata": {
    "collapsed": false
   },
   "outputs": [
    {
     "name": "stdout",
     "output_type": "stream",
     "text": [
      "Populating the interactive namespace from numpy and matplotlib\n"
     ]
    }
   ],
   "source": [
    "import os\n",
    "import numpy as np\n",
    "from scipy import ndimage\n",
    "import SimpleITK as sitk\n",
    "import matplotlib.pyplot as plt\n",
    "get_ipython().magic('pylab inline')\n",
    "\n",
    "import FunctionsCustom as fun"
   ]
  },
  {
   "cell_type": "code",
   "execution_count": 2,
   "metadata": {
    "collapsed": false
   },
   "outputs": [
    {
     "data": {
      "image/png": "[encoded data removed]",
      "text/plain": [
       "<matplotlib.figure.Figure at 0x7fb9b1d44ba8>"
      ]
     },
     "metadata": {},
     "output_type": "display_data"
    },
    {
     "data": {
      "image/png": "[encoded data removed]",
      "text/plain": [
       "<matplotlib.figure.Figure at 0x7fb9b1cd2fd0>"
      ]
     },
     "metadata": {},
     "output_type": "display_data"
    }
   ],
   "source": [
    "# path to the cropped, aligned CT and MR images\n",
    "\n",
    "pathCT = \"../data/cropped_CT-a/\"\n",
    "pathMR = \"../data/cropped_MR-d-a/\"\n",
    "\n",
    "imgOriginalCT = fun.sitk_read(pathCT)\n",
    "imgOriginalMR = fun.sitk_read(pathMR)\n",
    "\n",
    "idxSlice = 10\n",
    "labelRod = 1\n",
    "\n",
    "# denoise:\n",
    "\n",
    "imgSmoothCT = sitk.CurvatureFlow(image1=imgOriginalCT,\n",
    "                                    timeStep=0.125,\n",
    "                                    numberOfIterations=5)\n",
    "\n",
    "imgSmoothMR = sitk.CurvatureFlow(image1=imgOriginalMR,\n",
    "                                    timeStep=0.125,\n",
    "                                    numberOfIterations=5)\n",
    "                                    \n",
    "fun.sitk_show(imgSmoothCT[:,:,idxSlice], title=\"CT, denoised\")\n",
    "fun.sitk_show(imgSmoothMR[:,:,idxSlice], title=\"MR, denoised\")"
   ]
  },
  {
   "cell_type": "code",
   "execution_count": 3,
   "metadata": {
    "collapsed": false
   },
   "outputs": [
    {
     "data": {
      "image/png": "[encoded data removed]",
      "text/plain": [
       "<matplotlib.figure.Figure at 0x7fb9b1c97fd0>"
      ]
     },
     "metadata": {},
     "output_type": "display_data"
    },
    {
     "data": {
      "image/png": "[encoded data removed]",
      "text/plain": [
       "<matplotlib.figure.Figure at 0x7fb9b1cdc668>"
      ]
     },
     "metadata": {},
     "output_type": "display_data"
    }
   ],
   "source": [
    "# set seed for segmentation\n",
    "seedFillingCT = [(8,8,idxSlice)]\n",
    "seedFillingMR = [(8,8,idxSlice)]\n",
    "\n",
    "# using ConnectedThresholdImageFilter we can create a mask of just the rod\n",
    "# https://itk.org/SimpleITKDoxygen/html/classitk_1_1simple_1_1ConnectedThresholdImageFilter.html\n",
    "maskRodCT = sitk.ConnectedThreshold(image1=imgSmoothCT, \n",
    "                                              seedList=seedFillingCT, \n",
    "                                              lower=00, \n",
    "                                              upper=300,\n",
    "                                              replaceValue=labelRod)\n",
    "\n",
    "maskRodMR = sitk.ConnectedThreshold(image1=imgSmoothMR, \n",
    "                                              seedList=seedFillingMR, \n",
    "                                              lower=80, \n",
    "                                              upper=1500,\n",
    "                                              replaceValue=labelRod)\n",
    "\n",
    "fun.sitk_show(maskRodCT[:,:,idxSlice], title=\"CT, denoised, rod mask\")\n",
    "fun.sitk_show(maskRodMR[:,:,idxSlice], title=\"MR, denoised, rod mask\")"
   ]
  },
  {
   "cell_type": "code",
   "execution_count": 4,
   "metadata": {
    "collapsed": false
   },
   "outputs": [
    {
     "data": {
      "image/png": "[encoded data removed]",
      "text/plain": [
       "<matplotlib.figure.Figure at 0x7fb9b1d44470>"
      ]
     },
     "metadata": {},
     "output_type": "display_data"
    },
    {
     "data": {
      "image/png": "[encoded data removed]",
      "text/plain": [
       "<matplotlib.figure.Figure at 0x7fb9968f87f0>"
      ]
     },
     "metadata": {},
     "output_type": "display_data"
    }
   ],
   "source": [
    "# now we use a custom function (see \"FunctionCustom\") to get rid of everything but the rod in the denoised image\n",
    "# since it is denoised already, this will not make a huge difference\n",
    "\n",
    "imgRodCT = fun.sitk_mask(imgSmoothCT, maskRodCT)\n",
    "imgRodMR = fun.sitk_mask(imgSmoothMR, maskRodMR)\n",
    "\n",
    "fun.sitk_show(imgRodCT[:,:,idxSlice], title=\"CT, denoised, rod\")\n",
    "fun.sitk_show(imgRodMR[:,:,idxSlice], title=\"MR, denoised, rod\")"
   ]
  },
  {
   "cell_type": "code",
   "execution_count": 5,
   "metadata": {
    "collapsed": false
   },
   "outputs": [],
   "source": [
    "# Using this command we can look at imgRodMR with 3D Slicer:\n",
    "# %env SITK_SHOW_COMMAND /home/david/Downloads/Slicer-4.5.0-1-linux-amd64/Slicer\n",
    "# sitk.Show(imgRodMR)"
   ]
  },
  {
   "cell_type": "code",
   "execution_count": 6,
   "metadata": {
    "collapsed": false
   },
   "outputs": [],
   "source": [
    "# important to remember:\n",
    "# sitk.Image saves Volume like this (x,y,z)\n",
    "# array returned by sitk.GetArrayFromImage(Image) is transposed: (z,y,x)\n",
    "\n",
    "# we now use numpy to calculate the centroid of the rod\n",
    "rodCT = sitk.GetArrayFromImage(imgRodCT)\n",
    "zCT, yCT, xCT = np.shape(rodCT)\n",
    "\n",
    "rodMR = sitk.GetArrayFromImage(imgRodMR)\n",
    "zMR, yMR, xMR = np.shape(rodMR)\n",
    "\n",
    "# create array with centroid of rod in each slice of CT and MRT\n",
    "centroidCT = np.zeros((zCT, 2))\n",
    "centroidMR = np.zeros((zMR, 2))\n",
    "\n",
    "for slice in range(zCT):\n",
    "    centroidCT[slice,:] = np.array(ndimage.measurements.center_of_mass(rodCT[slice,:,:]))\n",
    "\n",
    "for slice in range(zMR):\n",
    "    centroidMR[slice,:] = np.array(ndimage.measurements.center_of_mass(rodMR[slice,:,:]))"
   ]
  },
  {
   "cell_type": "code",
   "execution_count": 7,
   "metadata": {
    "collapsed": false
   },
   "outputs": [
    {
     "data": {
      "image/png": "[encoded data removed]",
      "text/plain": [
       "<matplotlib.figure.Figure at 0x7fb9968f8e10>"
      ]
     },
     "metadata": {},
     "output_type": "display_data"
    },
    {
     "data": {
      "image/png": "[encoded data removed]",
      "text/plain": [
       "<matplotlib.figure.Figure at 0x7fb9968420f0>"
      ]
     },
     "metadata": {},
     "output_type": "display_data"
    }
   ],
   "source": [
    "# to make the result visible in our image, we can set the pixel closest to the centroid to 1\n",
    "# everything else will be black (value of 0)\n",
    "centroidCT_int = centroidCT.astype(int)\n",
    "\n",
    "imgCentroidCT = np.zeros((zCT, yCT, xCT))\n",
    "for slice in range(zCT):\n",
    "    imgCentroidCT[slice, centroidCT_int[slice,0], centroidCT_int[slice,1]] = 1\n",
    "    \n",
    "fun.array_show(imgCentroidCT[0,:,:])\n",
    "\n",
    "\n",
    "centroidMR_int = centroidMR.astype(int)\n",
    "\n",
    "imgCentroidMR = np.zeros((zMR, yMR, xMR))\n",
    "for slice in range(zMR):\n",
    "    imgCentroidMR[slice, centroidMR_int[slice,0], centroidMR_int[slice,1]] = 1\n",
    "    \n",
    "fun.array_show(imgCentroidMR[0,:,:])"
   ]
  },
  {
   "cell_type": "code",
   "execution_count": 8,
   "metadata": {
    "collapsed": false
   },
   "outputs": [
    {
     "name": "stdout",
     "output_type": "stream",
     "text": [
      "[[ 1.01718766  0.09381155]\n",
      " [ 1.01126068  0.08987856]\n",
      " [ 1.00248029  0.08475168]\n",
      " [ 0.99652355  0.08011549]\n",
      " [ 0.98718933  0.07433351]\n",
      " [ 0.98313596  0.06798372]\n",
      " [ 0.97608611  0.06274943]\n",
      " [ 0.97180472  0.05785591]\n",
      " [ 0.96247344  0.05599176]\n",
      " [ 0.95308068  0.05265702]\n",
      " [ 0.93883027  0.04992943]\n",
      " [ 0.92482991  0.04632092]\n",
      " [ 0.90614414  0.04450326]\n",
      " [ 0.88419383  0.04178457]\n",
      " [ 0.86581921  0.03977833]\n",
      " [ 0.774719   -0.00449801]\n",
      " [ 0.72366367  0.06903388]\n",
      " [ 0.71095843  0.06528336]\n",
      " [ 0.70140084  0.06254602]\n",
      " [ 0.68689293  0.05939225]\n",
      " [ 0.67294896  0.05888521]\n",
      " [ 0.61360485  0.07689806]\n",
      " [ 0.56043085  0.05972924]\n",
      " [ 0.55002884  0.06325302]\n",
      " [ 0.53693745  0.06664099]\n",
      " [ 0.52312274  0.07081612]\n",
      " [ 0.50999322  0.0728887 ]\n",
      " [ 0.50114113  0.07553456]\n",
      " [ 0.49269616  0.07684377]\n",
      " [ 0.50448941  0.1178926 ]\n",
      " [ 0.49340079  0.11706776]\n",
      " [ 0.48658615  0.11770266]\n",
      " [ 0.47599124  0.118033  ]\n",
      " [ 0.45576643  0.07894771]\n",
      " [ 0.4505808   0.07737321]\n",
      " [ 0.44427054  0.07231985]\n",
      " [ 0.43704     0.06531532]\n",
      " [ 0.42623811  0.0555864 ]\n",
      " [ 0.41334079  0.04852332]\n",
      " [ 0.4006426   0.04127918]\n",
      " [ 0.38945604  0.03968003]\n",
      " [ 0.34487278  0.0579669 ]\n",
      " [ 0.34296731  0.06022583]\n",
      " [ 0.34056123  0.0624593 ]\n",
      " [ 0.33378623  0.06380654]\n",
      " [ 0.32874571  0.06308523]\n",
      " [ 0.31965558  0.05795315]\n",
      " [ 0.31217197  0.05253835]\n",
      " [ 0.30382906  0.04776172]\n",
      " [ 0.29722398  0.04403483]\n",
      " [ 0.28965755  0.04154102]\n",
      " [ 0.28155306  0.0406967 ]\n",
      " [ 0.26934862  0.0438001 ]\n",
      " [ 0.26035906  0.04698173]\n",
      " [ 0.25376417  0.05099458]\n",
      " [ 0.2500187   0.05318313]\n",
      " [ 0.24465646  0.05480644]\n",
      " [ 0.24003888  0.05475756]\n",
      " [ 0.23519066  0.05364646]\n",
      " [ 0.18971971  0.0370266 ]\n",
      " [ 0.18947926  0.03436531]\n",
      " [ 0.19011138  0.03075682]\n",
      " [ 0.18980907  0.02634736]\n",
      " [ 0.15733897  0.05089307]\n",
      " [ 0.1064248   0.03756061]\n",
      " [ 0.1000077   0.02700833]\n",
      " [ 0.0929374   0.01778555]\n",
      " [ 0.08844882  0.01155653]\n",
      " [ 0.07962296  0.00819272]\n",
      " [ 0.0750017   0.00823107]\n",
      " [ 0.07158785  0.01195279]\n",
      " [ 0.07497521  0.01678727]\n",
      " [ 0.12092995  0.03421828]\n",
      " [ 0.12591462  0.03705485]\n",
      " [ 0.11634883  0.04210609]\n",
      " [ 0.09948685  0.04960065]\n",
      " [ 0.0882146   0.04794293]\n",
      " [ 0.07283158  0.0517631 ]\n",
      " [ 0.05464358  0.04269026]\n",
      " [ 0.04159915  0.04609177]\n",
      " [ 0.03600017  0.04521612]\n",
      " [ 0.03435839  0.04731867]\n",
      " [-0.00441866  0.05132342]\n",
      " [-0.01290107  0.04983373]\n",
      " [-0.05334507  0.02642417]\n",
      " [-0.08798318  0.02010107]\n",
      " [-0.10469513  0.00451518]\n",
      " [-0.0991492  -0.011318  ]\n",
      " [-0.09226564 -0.02519373]\n",
      " [-0.06104461 -0.03659892]\n",
      " [ 0.0415887  -0.05066541]\n",
      " [ 0.04444234 -0.06715189]\n",
      " [ 0.04083187 -0.08057494]\n",
      " [ 0.043479   -0.08392567]\n",
      " [ 0.04582627 -0.07789035]\n",
      " [ 0.05810311 -0.07175955]\n",
      " [ 0.06573848 -0.07094024]\n",
      " [ 0.0813337  -0.07548235]\n",
      " [ 0.08330525 -0.08118636]\n",
      " [ 0.08236389 -0.08164706]\n",
      " [ 0.0873803  -0.07869783]\n",
      " [ 0.13496161 -0.08064858]\n",
      " [ 0.19165671 -0.07206571]\n",
      " [ 0.19952241 -0.07667178]\n",
      " [ 0.20604054 -0.07989694]]\n"
     ]
    }
   ],
   "source": [
    "# this looks pretty good already\n",
    "# lets calculate the centroid shift in every slice:\n",
    "\n",
    "if zCT == zMR:\n",
    "    centroidDiff = np.zeros((zCT, 2))\n",
    "    for slice in range(zCT):\n",
    "        centroidDiff[slice,0] = centroidCT[slice,0] - centroidMR[slice, 0]\n",
    "        centroidDiff[slice,1] = centroidCT[slice,1] - centroidMR[slice, 1]\n",
    "        \n",
    "print(centroidDiff)"
   ]
  }
 ],
 "metadata": {
  "kernelspec": {
   "display_name": "Python 3",
   "language": "python",
   "name": "python3"
  },
  "language_info": {
   "codemirror_mode": {
    "name": "ipython",
    "version": 3
   },
   "file_extension": ".py",
   "mimetype": "text/x-python",
   "name": "python",
   "nbconvert_exporter": "python",
   "pygments_lexer": "ipython3",
   "version": "3.4.3"
  }
 },
 "nbformat": 4,
 "nbformat_minor": 0
}
