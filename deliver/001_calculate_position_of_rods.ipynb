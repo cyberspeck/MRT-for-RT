{
 "cells": [
  {
   "cell_type": "code",
   "execution_count": 1,
   "metadata": {
    "collapsed": false
   },
   "outputs": [
    {
     "name": "stdout",
     "output_type": "stream",
     "text": [
      "Populating the interactive namespace from numpy and matplotlib\n"
     ]
    }
   ],
   "source": [
    "import os\n",
    "import numpy as np\n",
    "from scipy import ndimage\n",
    "import SimpleITK as sitk\n",
    "import matplotlib.pyplot as plt\n",
    "get_ipython().magic('pylab inline')\n",
    "\n",
    "import FunctionsCustom as fun"
   ]
  },
  {
   "cell_type": "code",
   "execution_count": 2,
   "metadata": {
    "collapsed": false
   },
   "outputs": [
    {
     "data": {
      "image/png": "[encoded data removed]",
      "text/plain": [
       "<matplotlib.figure.Figure at 0x7f05ec17eac8>"
      ]
     },
     "metadata": {},
     "output_type": "display_data"
    },
    {
     "data": {
      "image/png": "[encoded data removed]",
      "text/plain": [
       "<matplotlib.figure.Figure at 0x7f05ec114160>"
      ]
     },
     "metadata": {},
     "output_type": "display_data"
    }
   ],
   "source": [
    "pathCT = \"../data/cropped_CT/\"\n",
    "pathMR = \"../data/cropped_MR-d/\"\n",
    "\n",
    "imgOriginalCT = fun.sitk_read(pathCT)\n",
    "imgOriginalMR = fun.sitk_read(pathMR)\n",
    "\n",
    "idxSlice = 20\n",
    "labelRod = 1\n",
    "\n",
    "# denoise:\n",
    "\n",
    "imgSmoothCT = sitk.CurvatureFlow(image1=imgOriginalCT,\n",
    "                                    timeStep=0.125,\n",
    "                                    numberOfIterations=5)\n",
    "\n",
    "imgSmoothMR = sitk.CurvatureFlow(image1=imgOriginalMR,\n",
    "                                    timeStep=0.125,\n",
    "                                    numberOfIterations=5)\n",
    "                                    \n",
    "fun.sitk_show(imgSmoothCT[:,:,idxSlice], title=\"CT, denoised\")\n",
    "fun.sitk_show(imgSmoothMR[:,:,idxSlice], title=\"MR, denoised\")"
   ]
  },
  {
   "cell_type": "code",
   "execution_count": 3,
   "metadata": {
    "collapsed": false
   },
   "outputs": [
    {
     "data": {
      "image/png": "[encoded data removed]",
      "text/plain": [
       "<matplotlib.figure.Figure at 0x7f05ec08d940>"
      ]
     },
     "metadata": {},
     "output_type": "display_data"
    },
    {
     "data": {
      "image/png": "[encoded data removed]",
      "text/plain": [
       "<matplotlib.figure.Figure at 0x7f05ec134fd0>"
      ]
     },
     "metadata": {},
     "output_type": "display_data"
    }
   ],
   "source": [
    "# set seed for segmentation\n",
    "seedFillingCT = [(14,14,idxSlice)]\n",
    "seedFillingMR = [(8,8,idxSlice)]\n",
    "\n",
    "# using ConnectedThresholdImageFilter we can create a mask of just the rod\n",
    "# https://itk.org/SimpleITKDoxygen/html/classitk_1_1simple_1_1ConnectedThresholdImageFilter.html\n",
    "maskRodCT = sitk.ConnectedThreshold(image1=imgSmoothCT, \n",
    "                                              seedList=seedFillingCT, \n",
    "                                              lower=00, \n",
    "                                              upper=300,\n",
    "                                              replaceValue=labelRod)\n",
    "\n",
    "maskRodMR = sitk.ConnectedThreshold(image1=imgSmoothMR, \n",
    "                                              seedList=seedFillingMR, \n",
    "                                              lower=80, \n",
    "                                              upper=1500,\n",
    "                                              replaceValue=labelRod)\n",
    "\n",
    "fun.sitk_show(maskRodCT[:,:,idxSlice], title=\"CT, denoised, rod mask\")\n",
    "fun.sitk_show(maskRodMR[:,:,idxSlice], title=\"MR, denoised, rod mask\")"
   ]
  },
  {
   "cell_type": "code",
   "execution_count": 9,
   "metadata": {
    "collapsed": false
   },
   "outputs": [
    {
     "data": {
      "image/png": "[encoded data removed]",
      "text/plain": [
       "<matplotlib.figure.Figure at 0x7f05c2ae4f28>"
      ]
     },
     "metadata": {},
     "output_type": "display_data"
    },
    {
     "data": {
      "image/png": "[encoded data removed]",
      "text/plain": [
       "<matplotlib.figure.Figure at 0x7f05c2a92978>"
      ]
     },
     "metadata": {},
     "output_type": "display_data"
    }
   ],
   "source": [
    "# now we use a custom function (see \"FunctionCustom\") to get rid of everything but the rod in the denoised image\n",
    "# since it is denoised already, this will not make a huge difference\n",
    "\n",
    "imgRodCT = fun.sitk_mask(imgSmoothCT, maskRodCT)\n",
    "imgRodMR = fun.sitk_mask(imgSmoothMR, maskRodMR)\n",
    "\n",
    "fun.sitk_show(imgRodCT[:,:,idxSlice], title=\"CT, denoised, rod\")\n",
    "fun.sitk_show(imgRodMR[:,:,idxSlice], title=\"MR, denoised, rod\")"
   ]
  },
  {
   "cell_type": "code",
   "execution_count": 11,
   "metadata": {
    "collapsed": false
   },
   "outputs": [
    {
     "name": "stdout",
     "output_type": "stream",
     "text": [
      "env: SITK_SHOW_COMMAND=/home/david/Downloads/Slicer-4.5.0-1-linux-amd64/Slicer\n"
     ]
    }
   ],
   "source": [
    "%env SITK_SHOW_COMMAND /home/david/Downloads/Slicer-4.5.0-1-linux-amd64/Slicer\n",
    "sitk.Show(imgRodMR)"
   ]
  },
  {
   "cell_type": "code",
   "execution_count": 5,
   "metadata": {
    "collapsed": true
   },
   "outputs": [],
   "source": [
    "# important to remember:\n",
    "# sitk.Image saves Volume like this (x,y,z)\n",
    "# array returned by sitk.GetArrayFromImage(Image)\n",
    "# is transposed: (z,y,x)\n",
    "\n",
    "# we now use numpy to calculate the centroid of the rod\n",
    "rodCT = sitk.GetArrayFromImage(imgRodCT)\n",
    "zCT, yCT, xCT = np.shape(rodCT)\n",
    "\n",
    "rodMR = sitk.GetArrayFromImage(imgRodMR)\n",
    "zMR, yMR, xMR = np.shape(rodMR)\n",
    "\n",
    "# create array with centroid of rod in each slice of CT and MRT\n",
    "centroidCT = np.zeros((zCT, 2))\n",
    "centroidMR = np.zeros((zMR, 2))\n",
    "\n",
    "for slice in range(zCT):\n",
    "    centroidCT[slice,:] = np.array(ndimage.measurements.center_of_mass(rodCT[slice,:,:]))\n",
    "\n",
    "for slice in range(zMR):\n",
    "    centroidMR[slice,:] = np.array(ndimage.measurements.center_of_mass(rodMR[slice,:,:]))"
   ]
  },
  {
   "cell_type": "code",
   "execution_count": 6,
   "metadata": {
    "collapsed": false
   },
   "outputs": [
    {
     "data": {
      "image/png": "[encoded data removed]",
      "text/plain": [
       "<matplotlib.figure.Figure at 0x7f05c2c8c390>"
      ]
     },
     "metadata": {},
     "output_type": "display_data"
    },
    {
     "data": {
      "image/png": "[encoded data removed]",
      "text/plain": [
       "<matplotlib.figure.Figure at 0x7f05c2b6bda0>"
      ]
     },
     "metadata": {},
     "output_type": "display_data"
    }
   ],
   "source": [
    "# to make the result visible in our image, we can set the pixel closest to the centroid to 1\n",
    "# everything else will be black (value of 0)\n",
    "centroidCT_int = centroidCT.astype(int)\n",
    "\n",
    "imgCentroidCT = np.zeros((zCT, yCT, xCT))\n",
    "for slice in range(zCT):\n",
    "    imgCentroidCT[slice, centroidCT_int[slice,0], centroidCT_int[slice,1]] = 1\n",
    "    \n",
    "fun.array_show(imgCentroidCT[0,:,:])\n",
    "\n",
    "\n",
    "centroidMR_int = centroidMR.astype(int)\n",
    "\n",
    "imgCentroidMR = np.zeros((zMR, yMR, xMR))\n",
    "for slice in range(zMR):\n",
    "    imgCentroidMR[slice, centroidMR_int[slice,0], centroidMR_int[slice,1]] = 1\n",
    "    \n",
    "fun.array_show(imgCentroidMR[0,:,:])"
   ]
  },
  {
   "cell_type": "code",
   "execution_count": 8,
   "metadata": {
    "collapsed": false
   },
   "outputs": [],
   "source": [
    "# if the CT nd MR image were aligned and had the same pixel density,\n",
    "# calculating the position difference in each slice would be easy"
   ]
  }
 ],
 "metadata": {
  "kernelspec": {
   "display_name": "Python 3",
   "language": "python",
   "name": "python3"
  },
  "language_info": {
   "codemirror_mode": {
    "name": "ipython",
    "version": 3
   },
   "file_extension": ".py",
   "mimetype": "text/x-python",
   "name": "python",
   "nbconvert_exporter": "python",
   "pygments_lexer": "ipython3",
   "version": "3.4.3"
  }
 },
 "nbformat": 4,
 "nbformat_minor": 0
}
