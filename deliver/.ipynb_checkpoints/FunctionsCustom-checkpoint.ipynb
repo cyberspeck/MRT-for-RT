{
 "cells": [
  {
   "cell_type": "code",
   "execution_count": 1,
   "metadata": {
    "collapsed": false
   },
   "outputs": [],
   "source": [
    "import os\n",
    "import numpy as np\n",
    "from scipy import ndimage\n",
    "import SimpleITK as sitk\n",
    "import matplotlib.pyplot as plt"
   ]
  },
  {
   "cell_type": "code",
   "execution_count": 2,
   "metadata": {
    "collapsed": true
   },
   "outputs": [],
   "source": [
    "def sitk_show(img, title=None, margin=0.05, dpi=40, scale=3,\n",
    "              interpolation='nearest'):\n",
    "    \"\"\"\n",
    "    scale is a scaling factor for the shown image\n",
    "    \"\"\"\n",
    "    nda = sitk.GetArrayFromImage(img)\n",
    "    spacing = img.GetSpacing()\n",
    "    figsize = (scale + margin) * nda.shape[0] / dpi, (scale + margin) * nda.shape[1] / dpi\n",
    "    extent = (0, nda.shape[1]*spacing[1], nda.shape[0]*spacing[0], 0)\n",
    "    fig = plt.figure(figsize=figsize, dpi=dpi)\n",
    "    ax = fig.add_axes([margin, margin, scale - 2*margin, scale - 2*margin])\n",
    "\n",
    "    plt.set_cmap(\"gray\")\n",
    "    ax.imshow(nda,extent=extent,interpolation=interpolation)\n",
    "    \n",
    "    if title:\n",
    "        plt.title(title)\n",
    "    \n",
    "    plt.show()\n",
    "\n",
    "def array_show(array):\n",
    "    plt.figure(dpi=40)\n",
    "    plt.axes().set_aspect('equal', 'datalim')\n",
    "    plt.set_cmap(plt.gray())\n",
    "    plt.pcolor(np.flipud(array))\n",
    "\n",
    "def sitk_mask(img0, mask):\n",
    "    img0A = sitk.GetArrayFromImage(img0)\n",
    "    maskA = sitk.GetArrayFromImage(mask)\n",
    "\n",
    "    imgMaskedA= img0A*maskA\n",
    "    \n",
    "    return sitk.GetImageFromArray(imgMaskedA)\n",
    "\n",
    "def sitk_read(directory):\n",
    "    '''\n",
    "    returns Volume as SimpleITK image\n",
    "    '''\n",
    "    reader = sitk.ImageSeriesReader()\n",
    "    filenames = reader.GetGDCMSeriesFileNames(directory)\n",
    "    reader.SetFileNames(filenames)\n",
    "    return reader.Execute()\n",
    "    \n",
    "# to view in 3D Slicer, type this in IPython console or in jupyter notebook:\n",
    "# %env SITK_SHOW_COMMAND /home/david/Downloads/Slicer-4.5.0-1-linux-amd64/Slicer\n",
    "# sitk.Show(imgFillingCT)"
   ]
  }
 ],
 "metadata": {
  "kernelspec": {
   "display_name": "Python 3",
   "language": "python",
   "name": "python3"
  },
  "language_info": {
   "codemirror_mode": {
    "name": "ipython",
    "version": 3
   },
   "file_extension": ".py",
   "mimetype": "text/x-python",
   "name": "python",
   "nbconvert_exporter": "python",
   "pygments_lexer": "ipython3",
   "version": "3.4.3"
  }
 },
 "nbformat": 4,
 "nbformat_minor": 0
}
