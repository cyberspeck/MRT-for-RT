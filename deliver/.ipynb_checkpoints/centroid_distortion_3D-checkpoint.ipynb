{
 "cells": [
  {
   "cell_type": "code",
   "execution_count": 6,
   "metadata": {
    "collapsed": false
   },
   "outputs": [
    {
     "name": "stdout",
     "output_type": "stream",
     "text": [
      "Populating the interactive namespace from numpy and matplotlib\n"
     ]
    }
   ],
   "source": [
    "import FunctionsCustom as fun\n",
    "from FunctionsCustom import Volume\n",
    "get_ipython().magic('pylab inline')\n",
    "\n",
    "pathCT = \"../data/cropped_CT-a/\"\n",
    "pathMR = \"../data/cropped_MR-d-a/\"\n",
    "idxSlice = 10"
   ]
  },
  {
   "cell_type": "code",
   "execution_count": 16,
   "metadata": {
    "collapsed": false
   },
   "outputs": [
    {
     "name": "stdout",
     "output_type": "stream",
     "text": [
      "\n",
      " Import DICOM Files from:  ../data/cropped_CT-a/\n",
      "\n",
      " Import DICOM Files from:  ../data/cropped_MR-d-a/\n"
     ]
    }
   ],
   "source": [
    "CT = Volume(path=pathCT, method=\"CT\", ref=idxSlice, seeds=[(6, 8, idxSlice)])\n",
    "MR = Volume(path=pathMR, method=\"MR\", ref=idxSlice, seeds=[(6, 8, idxSlice)])"
   ]
  },
  {
   "cell_type": "code",
   "execution_count": 8,
   "metadata": {
    "collapsed": false
   },
   "outputs": [
    {
     "data": {
      "image/png": "[encoded data removed]",
      "text/plain": [
       "<matplotlib.figure.Figure at 0x7fc11c5f9d30>"
      ]
     },
     "metadata": {},
     "output_type": "display_data"
    },
    {
     "data": {
      "image/png": "[encoded data removed]",
      "text/plain": [
       "<matplotlib.figure.Figure at 0x7fc0dea62f98>"
      ]
     },
     "metadata": {},
     "output_type": "display_data"
    }
   ],
   "source": [
    "CT.show()\n",
    "MR.show()"
   ]
  },
  {
   "cell_type": "code",
   "execution_count": 9,
   "metadata": {
    "collapsed": false
   },
   "outputs": [
    {
     "data": {
      "image/png": "[encoded data removed]",
      "text/plain": [
       "<matplotlib.figure.Figure at 0x7fc0deb19f60>"
      ]
     },
     "metadata": {},
     "output_type": "display_data"
    },
    {
     "data": {
      "image/png": "[encoded data removed]",
      "text/plain": [
       "<matplotlib.figure.Figure at 0x7fc0dea080f0>"
      ]
     },
     "metadata": {},
     "output_type": "display_data"
    }
   ],
   "source": [
    "CT.getCentroid()\n",
    "CT.showCentroid()\n",
    "MR.getCentroid()\n",
    "MR.showCentroid()"
   ]
  },
  {
   "cell_type": "code",
   "execution_count": 12,
   "metadata": {
    "collapsed": false
   },
   "outputs": [
    {
     "name": "stdout",
     "output_type": "stream",
     "text": [
      "CT, centroid[:,:,10]: [ 5.71083819  9.29886611]\n",
      "MR, centroid[:,:,10]: [ 6.04902309  7.55063945]\n",
      "distrotion[:,:,10]: [-0.3381849   1.74822666]\n"
     ]
    }
   ],
   "source": [
    "# this calculates the coordinate difference of MR.centroid relative to CT.centroid\n",
    "distortion = fun.coordShift(CT.centroid, MR.centroid)\n",
    "\n",
    "print(\"CT, centroid[:,:,{}]: {}\".format(idxSlice, CT.centroid[idxSlice]))\n",
    "print(\"MR, centroid[:,:,{}]: {}\".format(idxSlice, MR.centroid[idxSlice]))\n",
    "print(\"distrotion[:,:,{}]: {}\".format(idxSlice, distortion[idxSlice]))"
   ]
  },
  {
   "cell_type": "code",
   "execution_count": 13,
   "metadata": {
    "collapsed": false
   },
   "outputs": [
    {
     "name": "stdout",
     "output_type": "stream",
     "text": [
      "distrotionNorm[:,:,10]: [ 1.78063626]\n"
     ]
    }
   ],
   "source": [
    "# this calculates the norm (=absolute distance) between the centroids in each slice\n",
    "distortionNorm = fun.coordDist(distortion)\n",
    "print(\"distrotionNorm[:,:,{}]: {}\".format(idxSlice, distortionNorm[idxSlice]))"
   ]
  },
  {
   "cell_type": "code",
   "execution_count": 17,
   "metadata": {
    "collapsed": false
   },
   "outputs": [
    {
     "data": {
      "image/png": "[encoded data removed]",
      "text/plain": [
       "<matplotlib.figure.Figure at 0x7fc0de96fc88>"
      ]
     },
     "metadata": {},
     "output_type": "display_data"
    }
   ],
   "source": [
    "CT.getMask()\n",
    "# creates CT.masked using CT.mask,\n",
    "# but assigns each slice the centroid distance*1000*spacing as pixel value\n",
    "CT.applyMask(replaceArray=distortionNorm, spacing=CT.img.GetSpacing()[0])\n",
    "\n",
    "CT.showMasked()\n",
    "# exports 3D image as .mha file\n",
    "# fun.sitk_write(CT.masked, \"../data/\", \"CT_distortionNorm.mha\")"
   ]
  }
 ],
 "metadata": {
  "kernelspec": {
   "display_name": "Python 3",
   "language": "python",
   "name": "python3"
  },
  "language_info": {
   "codemirror_mode": {
    "name": "ipython",
    "version": 3
   },
   "file_extension": ".py",
   "mimetype": "text/x-python",
   "name": "python",
   "nbconvert_exporter": "python",
   "pygments_lexer": "ipython3",
   "version": "3.4.3"
  }
 },
 "nbformat": 4,
 "nbformat_minor": 0
}
