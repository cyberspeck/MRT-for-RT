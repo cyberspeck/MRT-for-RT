{
 "cells": [
  {
   "cell_type": "code",
   "execution_count": 2,
   "metadata": {
    "collapsed": false
   },
   "outputs": [
    {
     "name": "stdout",
     "output_type": "stream",
     "text": [
      "Populating the interactive namespace from numpy and matplotlib\n"
     ]
    }
   ],
   "source": [
    "import FunctionsCustom as fun\n",
    "from FunctionsCustom import Volume\n",
    "get_ipython().magic('pylab inline')\n",
    "\n",
    "pathCT = \"../data/cropped_CT-a/\"\n",
    "pathMR = \"../data/cropped_MR-d-a/\"\n",
    "idxSlice = 10"
   ]
  },
  {
   "cell_type": "code",
   "execution_count": 3,
   "metadata": {
    "collapsed": false
   },
   "outputs": [
    {
     "name": "stdout",
     "output_type": "stream",
     "text": [
      "Import DICOM Files from:  ../data/cropped_CT-a/\n",
      "Import DICOM Files from:  ../data/cropped_MR-d-a/\n"
     ]
    }
   ],
   "source": [
    "ct = Volume(path=pathCT, method=\"CT\", ref=idxSlice)\n",
    "mr = Volume(path=pathMR, method=\"MR\", ref=idxSlice)"
   ]
  },
  {
   "cell_type": "code",
   "execution_count": 4,
   "metadata": {
    "collapsed": false
   },
   "outputs": [
    {
     "data": {
      "image/png": "[encoded data removed]",
      "text/plain": [
       "<matplotlib.figure.Figure at 0x7f7778a138d0>"
      ]
     },
     "metadata": {},
     "output_type": "display_data"
    },
    {
     "data": {
      "image/png": "[encoded data removed]",
      "text/plain": [
       "<matplotlib.figure.Figure at 0x7f773860eef0>"
      ]
     },
     "metadata": {},
     "output_type": "display_data"
    }
   ],
   "source": [
    "ct.show()\n",
    "mr.show()"
   ]
  },
  {
   "cell_type": "code",
   "execution_count": 5,
   "metadata": {
    "collapsed": false
   },
   "outputs": [
    {
     "data": {
      "image/png": "[encoded data removed]",
      "text/plain": [
       "<matplotlib.figure.Figure at 0x7f773858f978>"
      ]
     },
     "metadata": {},
     "output_type": "display_data"
    },
    {
     "data": {
      "image/png": "[encoded data removed]",
      "text/plain": [
       "<matplotlib.figure.Figure at 0x7f773851f978>"
      ]
     },
     "metadata": {},
     "output_type": "display_data"
    }
   ],
   "source": [
    "ct.centroid(show=idxSlice)\n",
    "mr.centroid(show=idxSlice)"
   ]
  },
  {
   "cell_type": "code",
   "execution_count": 6,
   "metadata": {
    "collapsed": false
   },
   "outputs": [
    {
     "name": "stdout",
     "output_type": "stream",
     "text": [
      "[[ 2.12774838 -0.19502899]\n",
      " [ 2.12412637 -0.18818472]\n",
      " [ 1.87101585 -0.50180867]\n",
      " [ 1.85592904 -0.50156338]\n",
      " [ 1.83711667 -0.49272504]\n",
      " [ 1.79966078 -0.46996685]\n",
      " [ 1.79309023 -0.44464792]\n",
      " [ 1.78253754 -0.44026311]\n",
      " [ 1.7508088  -0.41006781]\n",
      " [ 1.74773124 -0.37594092]\n",
      " [ 1.74822666 -0.3381849 ]\n",
      " [ 1.75084497 -0.29726032]\n",
      " [ 1.75365779 -0.25488051]\n",
      " [ 1.79410594 -0.20042023]\n",
      " [ 1.76268512 -0.15275259]\n",
      " [ 1.74603053 -0.09676552]\n",
      " [ 1.73209612 -0.06195007]\n",
      " [ 1.71912088 -0.00822556]\n",
      " [ 1.7350771   0.0231203 ]\n",
      " [ 1.72108313  0.04667457]\n",
      " [ 1.71693567  0.08433604]\n",
      " [ 1.70489466  0.10537333]\n",
      " [ 1.68742933  0.14283347]\n",
      " [ 1.64752643  0.19417151]\n",
      " [ 1.57331536  0.24071846]\n",
      " [ 1.5983528   0.26215861]\n",
      " [ 1.55435557  0.28727327]\n",
      " [ 1.53273631  0.30419026]\n",
      " [ 1.54652155  0.33502639]\n",
      " [ 1.50047293  0.38832318]\n",
      " [ 1.49868603  0.42958362]\n",
      " [ 1.49759278  0.46946803]\n",
      " [ 1.49649642  0.50764304]\n",
      " [ 1.49126563  0.54106221]\n",
      " [ 1.4698061   0.5572757 ]\n",
      " [ 1.45839981  0.58312649]\n",
      " [ 1.44436634  0.60655582]\n",
      " [ 1.43160953  0.62870881]\n",
      " [ 1.4200393   0.64937273]\n",
      " [ 1.41059211  0.66918362]\n",
      " [ 1.40194907  0.68695236]\n",
      " [ 1.42135961  0.70246209]\n",
      " [ 1.41203045  0.71695468]\n",
      " [ 1.10706669  0.66624656]\n",
      " [ 1.10089195  0.68279126]\n",
      " [ 1.09471914  0.70157636]\n",
      " [ 0.63923286  0.67005638]\n",
      " [ 0.63685135  0.69480139]\n",
      " [ 0.63444268  0.72500455]\n",
      " [ 0.85479055  0.39246986]\n",
      " [ 0.85172154  0.42859187]\n",
      " [ 0.80796917  0.44538816]\n",
      " [ 0.80235588  0.48181596]\n",
      " [ 0.79507588  0.51616106]\n",
      " [ 0.78476589  0.54758996]\n",
      " [ 0.77515661  0.5762939 ]\n",
      " [ 0.76484859  0.6197989 ]\n",
      " [ 0.763907    0.65820881]\n",
      " [ 0.77505546  0.68919782]\n",
      " [ 0.76889839  0.72662855]\n",
      " [ 0.7635024   0.74760489]\n",
      " [ 0.75588596  0.76835768]\n",
      " [ 0.47583049  0.47755616]\n",
      " [ 0.81831174  0.53708634]\n",
      " [ 0.45794274  0.52386379]\n",
      " [ 0.4353284   0.55499861]\n",
      " [ 0.42766472  0.57706438]\n",
      " [ 0.57282982  0.32606287]\n",
      " [ 0.57178239  0.34739186]\n",
      " [ 0.53843165  0.36512255]\n",
      " [ 0.56303443  0.39079741]\n",
      " [ 0.55574495  0.41499754]\n",
      " [ 0.42076072  0.12788239]\n",
      " [ 0.43989235  0.15917475]\n",
      " [ 0.43175754  0.18140063]\n",
      " [ 0.42547241  0.20260475]\n",
      " [ 0.44794313  0.23294288]\n",
      " [ 0.46816098  0.24095729]\n",
      " [ 0.46886174  0.2616659 ]\n",
      " [ 0.46896424  0.28031764]\n",
      " [ 0.46662973  0.29975781]\n",
      " [ 0.4638591   0.31972439]\n",
      " [ 0.46626504  0.35176702]\n",
      " [ 0.40971785  0.37466906]\n",
      " [ 0.40768277  0.40060309]\n",
      " [ 0.40779315  0.42810597]\n",
      " [ 0.36031263  0.42615074]\n",
      " [ 0.36512165  0.45666771]\n",
      " [ 0.00519302  0.3928408 ]\n",
      " [ 0.06680812  0.07470803]\n",
      " [ 0.06422736 -0.19071185]\n",
      " [ 0.05403344 -0.17447737]\n",
      " [ 0.14040829 -0.15641445]\n",
      " [ 0.14567234 -0.13655699]\n",
      " [ 0.18294246 -0.1209353 ]\n",
      " [ 0.19145354 -0.10424291]\n",
      " [ 0.83752814 -0.07212152]\n",
      " [ 0.86137727 -0.06600055]\n",
      " [ 0.87580758 -0.0544557 ]\n",
      " [ 0.55669518 -0.06639051]\n",
      " [ 0.57649933 -0.03321504]\n",
      " [ 0.57664497 -0.01002735]\n",
      " [ 0.29936713  0.04267637]\n",
      " [ 0.30838096  0.05553503]\n",
      " [ 0.31230917  0.06288566]]\n"
     ]
    }
   ],
   "source": [
    "distortion = fun.coordShift(ct.centroid, mr.centroid)\n",
    "print(distortion)"
   ]
  }
 ],
 "metadata": {
  "kernelspec": {
   "display_name": "Python 3",
   "language": "python",
   "name": "python3"
  },
  "language_info": {
   "codemirror_mode": {
    "name": "ipython",
    "version": 3
   },
   "file_extension": ".py",
   "mimetype": "text/x-python",
   "name": "python",
   "nbconvert_exporter": "python",
   "pygments_lexer": "ipython3",
   "version": "3.4.3"
  }
 },
 "nbformat": 4,
 "nbformat_minor": 0
}
